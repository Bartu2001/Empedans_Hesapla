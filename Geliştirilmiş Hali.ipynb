{
 "cells": [
  {
   "cell_type": "code",
   "execution_count": 1,
   "id": "ee029cb9",
   "metadata": {},
   "outputs": [
    {
     "name": "stdout",
     "output_type": "stream",
     "text": [
      "\n",
      "-----------------------------\n",
      "\n",
      "This program calculates the total impedance of a series RLC circuit.\n",
      "--------------------------------------\n",
      "\n",
      "Frekansı Hz cinsinden giriniz:100\n",
      "Direnci ohm(Ω) cinsinden giriniz:233\n",
      "Kapasitansı F cinsinden giriniz:2333\n",
      "Endüktansı H cinsinden giriniz:22\n",
      "Toplam empedans (Z): 13824.971254444985 Ω\n"
     ]
    }
   ],
   "source": [
    "import math\n",
    "\n",
    "#Inform user about software\n",
    "print(\n",
    "\"\"\"\n",
    "-----------------------------\n",
    "\\nThis program calculates the total impedance of a series RLC circuit.\n",
    "--------------------------------------\n",
    "\"\"\",flush=True\n",
    ")\n",
    "\n",
    "def get_input(prompt):\n",
    "    \"\"\"\n",
    "   This function prompts the user for input, checking whether the input is a non-negative and valid number. \n",
    "   If the input is invalid or negative, it continues to ask for input until a valid input is provided.\n",
    "    \"\"\"\n",
    "\n",
    "    while True:\n",
    "        try:\n",
    "            value = float(input(prompt))\n",
    "            if value < 0:\n",
    "                print(\"Lütfen negatif olmayan bir sayı girin.\")\n",
    "            else:\n",
    "                return value\n",
    "        except ValueError:\n",
    "            print(\"Geçersiz giriş.Lütfen sayısal bir eğer girin.\")\n",
    "            \n",
    "def calculate_reactances(frequency, capacitance, inductance):\n",
    "    \"\"\"\n",
    "    This function calculates the reactances of a capacitor and an inductor given the frequency, capacitance, and inductance.\n",
    "    The function returns the capacitive reactance, Xc, and the inductive reactance, Xl.\n",
    "    \"\"\"\n",
    "    \n",
    "    Xc = 1/ (2 * math.pi * frequency * capacitance)\n",
    "    Xl = 2 * math.pi * frequency * inductance \n",
    "    return Xc,Xl\n",
    "\n",
    "def calculate_impedance(resistance, Xc,Xl):\n",
    "    \"\"\"\n",
    "  This function calculates the total impedance of a series RLC circuit given the resistance, capacitive reactance (Xc), and inductive reactance (Xl).\n",
    "    \n",
    "    \"\"\"\n",
    "    \n",
    "    return math.sqrt(resistance**2 + (Xc - Xl) **2)\n",
    "\n",
    "def main():\n",
    "    \"\"\"\n",
    "    This is the main function where the program starts. It prompts the user for frequency, resistance, capacitance, and inductance in specified units.\n",
    "    Then, it calculates the total impedance and prints the result.\n",
    "    \"\"\"\n",
    "    frequency = get_input(\"Frekansı Hz cinsinden giriniz:\")\n",
    "    resistance = get_input(\"Direnci ohm(\\u03A9) cinsinden giriniz:\")\n",
    "    capacitance = get_input(\"Kapasitansı F cinsinden giriniz:\")\n",
    "    inductance = get_input(\"Endüktansı H cinsinden giriniz:\")\n",
    "    \n",
    "    Xc,Xl = calculate_reactances(frequency,capacitance,inductance)\n",
    "    impedance = calculate_impedance(resistance,Xc,Xl)\n",
    "    \n",
    "    print(f\"Toplam empedans (Z): {impedance} \\u03A9\")\n",
    "\n",
    "if __name__ == \"__main__\":\n",
    "    main()\n",
    "    \n",
    "        \n",
    "    \n",
    "    \n"
   ]
  }
 ],
 "metadata": {
  "kernelspec": {
   "display_name": "Python 3 (ipykernel)",
   "language": "python",
   "name": "python3"
  },
  "language_info": {
   "codemirror_mode": {
    "name": "ipython",
    "version": 3
   },
   "file_extension": ".py",
   "mimetype": "text/x-python",
   "name": "python",
   "nbconvert_exporter": "python",
   "pygments_lexer": "ipython3",
   "version": "3.10.9"
  }
 },
 "nbformat": 4,
 "nbformat_minor": 5
}
