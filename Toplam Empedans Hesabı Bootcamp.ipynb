{
 "cells": [
  {
   "cell_type": "markdown",
   "id": "c04c4cb8",
   "metadata": {},
   "source": [
    "Alternatif akımla çalışan bir devrede birbirlerine seri bağlanmış bir direnç, bir kondansatör ve bir bobin bulunmaktadır. \n",
    "Kullanıcıdan frekansı Hertz, direnç değerini ohm, kondansatör değerini farad ve bobin değerini henry olarak alınız. Toplam empedansı hesaplayıp ekrana yazdıran bir program yazınız "
   ]
  },
  {
   "cell_type": "code",
   "execution_count": null,
   "id": "dad0eb41",
   "metadata": {},
   "outputs": [],
   "source": [
    "import cmath\n",
    "\n",
    "# Get input values ​​from user\n",
    "resistance = float(input(\"Direnç değerini giriniz (Ohm): \"))\n",
    "bobbin= float(input(\"Bobin değerini giriniz (Henry): \"))\n",
    "condenser = float(input(\"Kondansatör değerini giriniz (Farad): \"))\n",
    "frequency = float(input(\"Frekansı giriniz (Hertz): \"))\n",
    "\n",
    "# Calculate impedance components\n",
    "j = complex(0, 1) \n",
    "condenser_reactance = 1 / (2 * cmath.pi * frequency * condenser * j)\n",
    "bobbin_reactance = 2 * cmath.pi * frequency * bobbin * j\n",
    "\n",
    "# Calculate the total impedance\n",
    "total_impedance = resistance + condenser_reactance + bobbin_reactance\n",
    "\n",
    "# Print the result to the screen\n",
    "print(\"Toplam Empedans: {:.2f} Ohm\".format(abs(total_impedance)))\n"
   ]
  },
  {
   "cell_type": "code",
   "execution_count": null,
   "id": "f5c5037e",
   "metadata": {},
   "outputs": [],
   "source": []
  }
 ],
 "metadata": {
  "kernelspec": {
   "display_name": "Python 3 (ipykernel)",
   "language": "python",
   "name": "python3"
  },
  "language_info": {
   "codemirror_mode": {
    "name": "ipython",
    "version": 3
   },
   "file_extension": ".py",
   "mimetype": "text/x-python",
   "name": "python",
   "nbconvert_exporter": "python",
   "pygments_lexer": "ipython3",
   "version": "3.10.9"
  }
 },
 "nbformat": 4,
 "nbformat_minor": 5
}
